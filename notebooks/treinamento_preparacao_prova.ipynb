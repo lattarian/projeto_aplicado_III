{
  "nbformat": 4,
  "nbformat_minor": 0,
  "metadata": {
    "colab": {
      "provenance": []
    },
    "kernelspec": {
      "name": "python3",
      "display_name": "Python 3"
    },
    "language_info": {
      "name": "python"
    }
  },
  "cells": [
    {
      "cell_type": "markdown",
      "source": [
        "# Preparação, Treinamento e Prova de Conceito"
      ],
      "metadata": {
        "id": "XE2jI2Sjda3m"
      }
    },
    {
      "cell_type": "markdown",
      "source": [
        "**Importação**"
      ],
      "metadata": {
        "id": "GseXQRJKdXbS"
      }
    },
    {
      "cell_type": "code",
      "execution_count": 1,
      "metadata": {
        "id": "lXgDI55rYmu2"
      },
      "outputs": [],
      "source": [
        "#importacao de dados\n",
        "import pandas as pd\n",
        "\n",
        "\n",
        "df=pd.read_csv('udemy_output_All_IT__Software_p1_p626.csv')"
      ]
    },
    {
      "cell_type": "markdown",
      "source": [
        "**Preparação do dados**"
      ],
      "metadata": {
        "id": "ujWvjqFudKGM"
      }
    },
    {
      "cell_type": "code",
      "source": [
        "#Preparacao dos dados\n",
        "from sklearn.feature_extraction.text import TfidfVectorizer\n",
        "import nltk\n",
        "nltk.download('stopwords')\n",
        "from nltk.corpus import stopwords\n",
        "\n",
        "\n",
        "# Preenchendo valores nulos no título\n",
        "df['title'] = df['title'].fillna('')\n",
        "\n",
        "# Ajusta as stop word para o contexto da base de cursos\n",
        "stop_words = stopwords.words('english') + ['course', 'learn', 'training',\n",
        "                                           'online', 'award', 'success']\n",
        "\n",
        "# Transformando os títulos em vetores TF-IDF\n",
        "vectorizer = TfidfVectorizer(stop_words=stop_words)\n",
        "tfidf_matrix = vectorizer.fit_transform(df['title'])\n"
      ],
      "metadata": {
        "colab": {
          "base_uri": "https://localhost:8080/"
        },
        "id": "wzrx8YFwbdBO",
        "outputId": "9c0d19c8-7c8b-4ad7-bd70-86bc40518cba"
      },
      "execution_count": 22,
      "outputs": [
        {
          "output_type": "stream",
          "name": "stderr",
          "text": [
            "[nltk_data] Downloading package stopwords to /root/nltk_data...\n",
            "[nltk_data]   Package stopwords is already up-to-date!\n"
          ]
        }
      ]
    },
    {
      "cell_type": "markdown",
      "source": [
        "**Treinamento**"
      ],
      "metadata": {
        "id": "1aVyXYV9dPeB"
      }
    },
    {
      "cell_type": "code",
      "source": [
        "#Técnica de recomendação\n",
        "from sklearn.metrics.pairwise import cosine_similarity\n",
        "\n",
        "\n",
        "# Utilizando similaridade do cosseno entre os vetores dos títulos\n",
        "cosine_sim = cosine_similarity(tfidf_matrix, tfidf_matrix)"
      ],
      "metadata": {
        "id": "cLnVEdt-cVFU"
      },
      "execution_count": 23,
      "outputs": []
    },
    {
      "cell_type": "markdown",
      "source": [
        "**Prova de conceito**"
      ],
      "metadata": {
        "id": "wrSjcU3IdT28"
      }
    },
    {
      "cell_type": "code",
      "source": [
        "import random\n",
        "\n",
        "def exibir_recomendacoes(course_id, top_n=3):\n",
        "    curso_alvo = df[df['id'] == course_id]['title'].values[0]\n",
        "    print(f\"\\n Curso selecionado: {curso_alvo}\\n\")\n",
        "\n",
        "    # Recomendação\n",
        "    idx = df[df['id'] == course_id].index[0]\n",
        "    # retorna um vetor de similaridade entre o curso-alvo e todos os outros cursos.\n",
        "    sim_scores = list(enumerate(cosine_sim[idx]))\n",
        "    # Ordena os cursos com base na similaridade\n",
        "    # Ignora o primeiro resultado (posição 0), porque ele será o curso com similaridade 1.0 com ele mesmo.\n",
        "    sim_scores = sorted(sim_scores, key=lambda x: x[1], reverse=True)[1:top_n+1]\n",
        "\n",
        "    #Extrai só os índices dos cursos recomendados.\n",
        "    recommended_indices = [i[0] for i in sim_scores]\n",
        "\n",
        "    print(\"Cursos recomendados:\")\n",
        "    for i in recommended_indices:\n",
        "        print(f\"  - {df.iloc[i]['title']}\")\n",
        "\n",
        "ids_disponiveis = df['id'].tolist()\n",
        "ids_para_testar = random.choices(ids_disponiveis, k=5)\n",
        "\n",
        "# Rodando 5 provas de conceito\n",
        "for i, cid in enumerate(ids_para_testar[:5], start=1):\n",
        "    print(f\"\\n Teste {i}/5\")\n",
        "    exibir_recomendacoes(cid, top_n=3)"
      ],
      "metadata": {
        "colab": {
          "base_uri": "https://localhost:8080/"
        },
        "id": "VyzWV1aNdGiZ",
        "outputId": "972d4407-74e8-4d28-a2d1-a98df1bf4b4b"
      },
      "execution_count": 26,
      "outputs": [
        {
          "output_type": "stream",
          "name": "stdout",
          "text": [
            "\n",
            " Teste 1/5\n",
            "\n",
            " Curso selecionado: Selenium WebDriver Bootcamp - Beginner to Pro\n",
            "\n",
            "Cursos recomendados:\n",
            "  - Selenium WebDriver Masterclass with C#\n",
            "  - Selenium Webdriver in Java\n",
            "  - Selenium Webdriver for SDET in Java - Bootcamp\n",
            "\n",
            " Teste 2/5\n",
            "\n",
            " Curso selecionado: Practice Exams LPIC-2 Engineer (201-450 & 202-450) | QA PDF\n",
            "\n",
            "Cursos recomendados:\n",
            "  - LPIC-2 Linux Engineer Practice Exam (201-450 & 202-450) 2020\n",
            "  - LPIC-2 - Linux Engineer Exam 201-450 - June/2020 Q/A UPDATED\n",
            "  - CISSP Practice Exam (All Domains) 450 Questions\n",
            "\n",
            " Teste 3/5\n",
            "\n",
            " Curso selecionado: Recruiter Training - Hire Top Employees in 30 days\n",
            "\n",
            "Cursos recomendados:\n",
            "  - How to Launch Your Business in 30 Days\n",
            "  - IT/NON-IT Recruiter Training to become a Recruiter (Junior)\n",
            "  - Online Business: 30 Days Challenge\n",
            "\n",
            " Teste 4/5\n",
            "\n",
            " Curso selecionado: Business Modelling Masterclass- Business Meets Funding\n",
            "\n",
            "Cursos recomendados:\n",
            "  - Absolute Entrepreneurship Part 2: Funding Your Business\n",
            "  - BPMN 2.0 Business Process Modelling for Business Analysts\n",
            "  - Business process mapping / modelling - the complete course!\n",
            "\n",
            " Teste 5/5\n",
            "\n",
            " Curso selecionado: C# - Getting Started\n",
            "\n",
            "Cursos recomendados:\n",
            "  - Getting Started with Agile\n",
            "  - Business Analysis - Getting Started\n",
            "  - Getting Started With QuickBooks Online\n"
          ]
        }
      ]
    },
    {
      "cell_type": "markdown",
      "source": [
        "**Métricas**"
      ],
      "metadata": {
        "id": "gYzYGOOUmpaU"
      }
    },
    {
      "cell_type": "code",
      "source": [
        "from sklearn.metrics import ndcg_score\n",
        "import numpy as np\n",
        "\n",
        "# -------------------------------\n",
        "# MÉTRICA 1: Precision@K\n",
        "# -------------------------------\n",
        "def precision_at_k(course_id, top_n=3, threshold=0.3):\n",
        "    idx = df[df['id'] == course_id].index[0]\n",
        "    sim_scores = list(enumerate(cosine_sim[idx]))\n",
        "    sim_scores = sorted(sim_scores, key=lambda x: x[1], reverse=True)[1:top_n+1]\n",
        "\n",
        "    relevantes = [1 if score[1] >= threshold else 0 for score in sim_scores]\n",
        "    precision = sum(relevantes) / top_n\n",
        "    return precision\n",
        "\n",
        "# -------------------------------\n",
        "# MÉTRICA 2: Recall@K\n",
        "# -------------------------------\n",
        "def recall_at_k(course_id, top_n=3, threshold=0.3):\n",
        "    idx = df[df['id'] == course_id].index[0]\n",
        "    sim_scores = list(enumerate(cosine_sim[idx]))\n",
        "    relevantes_totais = sum(1 for score in sim_scores if score[1] >= threshold and score[0] != idx)\n",
        "\n",
        "    if relevantes_totais == 0:\n",
        "        return 0.0\n",
        "\n",
        "    sim_scores = sorted(sim_scores, key=lambda x: x[1], reverse=True)[1:top_n+1]\n",
        "    relevantes_encontrados = sum(1 if score[1] >= threshold else 0 for score in sim_scores)\n",
        "    recall = relevantes_encontrados / relevantes_totais\n",
        "    return recall\n",
        "\n",
        "\n",
        "# -------------------------------\n",
        "# MÉTRICA 3: MRR (Mean Reciprocal Rank)\n",
        "# -------------------------------\n",
        "def mrr(course_id, threshold=0.3):\n",
        "    idx = df[df['id'] == course_id].index[0]\n",
        "    sim_scores = list(enumerate(cosine_sim[idx]))\n",
        "    sim_scores = sorted(sim_scores, key=lambda x: x[1], reverse=True)\n",
        "    for rank, (i, score) in enumerate(sim_scores[1:], start=1):\n",
        "        if score >= threshold:\n",
        "            return 1 / rank\n",
        "    return 0.0\n",
        "\n",
        "# -------------------------------\n",
        "# MÉTRICA 4: NDCG@K (Normalized Discounted Cumulative Gain)\n",
        "# -------------------------------\n",
        "def ndcg_at_k(course_id, top_n=3):\n",
        "    idx = df[df['id'] == course_id].index[0]\n",
        "    sim_scores = list(enumerate(cosine_sim[idx]))\n",
        "    sim_scores = sorted(sim_scores, key=lambda x: x[1], reverse=True)[1:top_n+1]\n",
        "\n",
        "    # Gera relevância simulada com base na própria similaridade\n",
        "    y_true = [score[1] for score in sim_scores]\n",
        "    y_score = [score[1] for score in sim_scores]\n",
        "\n",
        "    return ndcg_score([y_true], [y_score])\n",
        "\n",
        ""
      ],
      "metadata": {
        "id": "M4WnJogomovz"
      },
      "execution_count": 37,
      "outputs": []
    },
    {
      "cell_type": "code",
      "source": [
        " #Rodar o cálculo das métricas para todos os cursos da base simulada\n",
        "\n",
        "todos_ids = df['id'].tolist()\n",
        "\n",
        "# Reavaliar para todos os cursos\n",
        "all_precisions = []\n",
        "all_recalls = []\n",
        "all_mrrs = []\n",
        "all_ndcgs = []\n",
        "\n",
        "for cid in todos_ids:\n",
        "    all_precisions.append(precision_at_k(cid))\n",
        "    all_recalls.append(recall_at_k(cid))\n",
        "    all_mrrs.append(mrr(cid))\n",
        "    all_ndcgs.append(ndcg_at_k(cid))\n",
        "\n",
        "# Resultados médios em toda a base\n",
        "metrics_summary_full = {\n",
        "    \"Precision@3\": round(np.mean(all_precisions), 2),\n",
        "    \"Recall@3\": round(np.mean(all_recalls), 2),\n",
        "    \"MRR\": round(np.mean(all_mrrs), 2),\n",
        "    \"NDCG@3\": round(np.mean(all_ndcgs), 2)\n",
        "}\n",
        "\n",
        "metrics_summary_full"
      ],
      "metadata": {
        "colab": {
          "base_uri": "https://localhost:8080/",
          "height": 332
        },
        "id": "DOLcwYaVnQf5",
        "outputId": "6df860da-4802-4950-b4f7-b250b6402812"
      },
      "execution_count": 38,
      "outputs": [
        {
          "output_type": "error",
          "ename": "KeyboardInterrupt",
          "evalue": "",
          "traceback": [
            "\u001b[0;31m---------------------------------------------------------------------------\u001b[0m",
            "\u001b[0;31mKeyboardInterrupt\u001b[0m                         Traceback (most recent call last)",
            "\u001b[0;32m<ipython-input-38-dfb8b3fee219>\u001b[0m in \u001b[0;36m<cell line: 0>\u001b[0;34m()\u001b[0m\n\u001b[1;32m     13\u001b[0m    \u001b[0mall_recalls\u001b[0m\u001b[0;34m.\u001b[0m\u001b[0mappend\u001b[0m\u001b[0;34m(\u001b[0m\u001b[0mrecall_at_k\u001b[0m\u001b[0;34m(\u001b[0m\u001b[0mcid\u001b[0m\u001b[0;34m)\u001b[0m\u001b[0;34m)\u001b[0m\u001b[0;34m\u001b[0m\u001b[0;34m\u001b[0m\u001b[0m\n\u001b[1;32m     14\u001b[0m    \u001b[0mall_mrrs\u001b[0m\u001b[0;34m.\u001b[0m\u001b[0mappend\u001b[0m\u001b[0;34m(\u001b[0m\u001b[0mmrr\u001b[0m\u001b[0;34m(\u001b[0m\u001b[0mcid\u001b[0m\u001b[0;34m)\u001b[0m\u001b[0;34m)\u001b[0m\u001b[0;34m\u001b[0m\u001b[0;34m\u001b[0m\u001b[0m\n\u001b[0;32m---> 15\u001b[0;31m    \u001b[0mall_ndcgs\u001b[0m\u001b[0;34m.\u001b[0m\u001b[0mappend\u001b[0m\u001b[0;34m(\u001b[0m\u001b[0mndcg_at_k\u001b[0m\u001b[0;34m(\u001b[0m\u001b[0mcid\u001b[0m\u001b[0;34m)\u001b[0m\u001b[0;34m)\u001b[0m\u001b[0;34m\u001b[0m\u001b[0;34m\u001b[0m\u001b[0m\n\u001b[0m\u001b[1;32m     16\u001b[0m \u001b[0;34m\u001b[0m\u001b[0m\n\u001b[1;32m     17\u001b[0m \u001b[0;31m# Resultados médios em toda a base\u001b[0m\u001b[0;34m\u001b[0m\u001b[0;34m\u001b[0m\u001b[0m\n",
            "\u001b[0;32m<ipython-input-37-9fe1beffefc6>\u001b[0m in \u001b[0;36mndcg_at_k\u001b[0;34m(course_id, top_n)\u001b[0m\n\u001b[1;32m     48\u001b[0m \u001b[0;32mdef\u001b[0m \u001b[0mndcg_at_k\u001b[0m\u001b[0;34m(\u001b[0m\u001b[0mcourse_id\u001b[0m\u001b[0;34m,\u001b[0m \u001b[0mtop_n\u001b[0m\u001b[0;34m=\u001b[0m\u001b[0;36m3\u001b[0m\u001b[0;34m)\u001b[0m\u001b[0;34m:\u001b[0m\u001b[0;34m\u001b[0m\u001b[0;34m\u001b[0m\u001b[0m\n\u001b[1;32m     49\u001b[0m     \u001b[0midx\u001b[0m \u001b[0;34m=\u001b[0m \u001b[0mdf\u001b[0m\u001b[0;34m[\u001b[0m\u001b[0mdf\u001b[0m\u001b[0;34m[\u001b[0m\u001b[0;34m'id'\u001b[0m\u001b[0;34m]\u001b[0m \u001b[0;34m==\u001b[0m \u001b[0mcourse_id\u001b[0m\u001b[0;34m]\u001b[0m\u001b[0;34m.\u001b[0m\u001b[0mindex\u001b[0m\u001b[0;34m[\u001b[0m\u001b[0;36m0\u001b[0m\u001b[0;34m]\u001b[0m\u001b[0;34m\u001b[0m\u001b[0;34m\u001b[0m\u001b[0m\n\u001b[0;32m---> 50\u001b[0;31m     \u001b[0msim_scores\u001b[0m \u001b[0;34m=\u001b[0m \u001b[0mlist\u001b[0m\u001b[0;34m(\u001b[0m\u001b[0menumerate\u001b[0m\u001b[0;34m(\u001b[0m\u001b[0mcosine_sim\u001b[0m\u001b[0;34m[\u001b[0m\u001b[0midx\u001b[0m\u001b[0;34m]\u001b[0m\u001b[0;34m)\u001b[0m\u001b[0;34m)\u001b[0m\u001b[0;34m\u001b[0m\u001b[0;34m\u001b[0m\u001b[0m\n\u001b[0m\u001b[1;32m     51\u001b[0m     \u001b[0msim_scores\u001b[0m \u001b[0;34m=\u001b[0m \u001b[0msorted\u001b[0m\u001b[0;34m(\u001b[0m\u001b[0msim_scores\u001b[0m\u001b[0;34m,\u001b[0m \u001b[0mkey\u001b[0m\u001b[0;34m=\u001b[0m\u001b[0;32mlambda\u001b[0m \u001b[0mx\u001b[0m\u001b[0;34m:\u001b[0m \u001b[0mx\u001b[0m\u001b[0;34m[\u001b[0m\u001b[0;36m1\u001b[0m\u001b[0;34m]\u001b[0m\u001b[0;34m,\u001b[0m \u001b[0mreverse\u001b[0m\u001b[0;34m=\u001b[0m\u001b[0;32mTrue\u001b[0m\u001b[0;34m)\u001b[0m\u001b[0;34m[\u001b[0m\u001b[0;36m1\u001b[0m\u001b[0;34m:\u001b[0m\u001b[0mtop_n\u001b[0m\u001b[0;34m+\u001b[0m\u001b[0;36m1\u001b[0m\u001b[0;34m]\u001b[0m\u001b[0;34m\u001b[0m\u001b[0;34m\u001b[0m\u001b[0m\n\u001b[1;32m     52\u001b[0m \u001b[0;34m\u001b[0m\u001b[0m\n",
            "\u001b[0;31mKeyboardInterrupt\u001b[0m: "
          ]
        }
      ]
    }
  ]
}