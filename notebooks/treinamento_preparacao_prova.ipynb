{
 "nbformat": 4,
 "nbformat_minor": 0,
 "metadata": {
  "colab": {
   "provenance": []
  },
  "kernelspec": {
   "name": "python3",
   "display_name": "Python 3"
  },
  "language_info": {
   "name": "python"
  }
 },
 "cells": [
  {
   "cell_type": "markdown",
   "source": [
    "# Preparação, Treinamento e Prova de Conceito"
   ],
   "metadata": {
    "id": "XE2jI2Sjda3m"
   }
  },
  {
   "cell_type": "markdown",
   "source": [
    "**Importação**"
   ],
   "metadata": {
    "id": "GseXQRJKdXbS"
   }
  },
  {
   "cell_type": "code",
   "execution_count": 1,
   "metadata": {
    "id": "lXgDI55rYmu2"
   },
   "outputs": [],
   "source": [
    "#importacao de dados\n",
    "import pandas as pd\n",
    "\n",
    "\n",
    "df=pd.read_csv('udemy_output_All_IT__Software_p1_p626.csv')"
   ]
  },
  {
   "cell_type": "markdown",
   "source": [
    "**Preparação do dados**"
   ],
   "metadata": {
    "id": "ujWvjqFudKGM"
   }
  },
  {
   "cell_type": "code",
   "source": [
    "#Preparacao dos dados\n",
    "from sklearn.feature_extraction.text import TfidfVectorizer\n",
    "import nltk\n",
    "nltk.download('stopwords')\n",
    "from nltk.corpus import stopwords\n",
    "\n",
    "\n",
    "# Preenchendo valores nulos no título\n",
    "df['title'] = df['title'].fillna('')\n",
    "\n",
    "# Ajusta as stop word para o contexto da base de cursos\n",
    "stop_words = stopwords.words('english') + ['course', 'learn', 'training',\n",
    "                                           'online', 'award', 'success']\n",
    "\n",
    "# Transformando os títulos em vetores TF-IDF\n",
    "vectorizer = TfidfVectorizer(stop_words=stop_words)\n",
    "tfidf_matrix = vectorizer.fit_transform(df['title'])\n"
   ],
   "metadata": {
    "colab": {
     "base_uri": "https://localhost:8080/"
    },
    "id": "wzrx8YFwbdBO",
    "outputId": "9c0d19c8-7c8b-4ad7-bd70-86bc40518cba"
   },
   "execution_count": 22,
   "outputs": [
    {
     "output_type": "stream",
     "name": "stderr",
     "text": [
      "[nltk_data] Downloading package stopwords to /root/nltk_data...\n",
      "[nltk_data]   Package stopwords is already up-to-date!\n"
     ]
    }
   ]
  },
  {
   "cell_type": "markdown",
   "source": [
    "**Treinamento**"
   ],
   "metadata": {
    "id": "1aVyXYV9dPeB"
   }
  },
  {
   "cell_type": "code",
   "source": [
    "#Técnica de recomendação\n",
    "from sklearn.metrics.pairwise import cosine_similarity\n",
    "\n",
    "\n",
    "# Utilizando similaridade do cosseno entre os vetores dos títulos\n",
    "cosine_sim = cosine_similarity(tfidf_matrix, tfidf_matrix)"
   ],
   "metadata": {
    "id": "cLnVEdt-cVFU"
   },
   "execution_count": 23,
   "outputs": []
  },
  {
   "cell_type": "markdown",
   "source": [
    "**Prova de conceito**"
   ],
   "metadata": {
    "id": "wrSjcU3IdT28"
   }
  },
  {
   "cell_type": "code",
   "source": [
    "import random\n",
    "\n",
    "def exibir_recomendacoes(course_id, top_n=3):\n",
    "    curso_alvo = df[df['id'] == course_id]['title'].values[0]\n",
    "    print(f\"\\n Curso selecionado: {curso_alvo}\\n\")\n",
    "\n",
    "    # Recomendação\n",
    "    idx = df[df['id'] == course_id].index[0]\n",
    "    # retorna um vetor de similaridade entre o curso-alvo e todos os outros cursos.\n",
    "    sim_scores = list(enumerate(cosine_sim[idx]))\n",
    "    # Ordena os cursos com base na similaridade\n",
    "    # Ignora o primeiro resultado (posição 0), porque ele será o curso com similaridade 1.0 com ele mesmo.\n",
    "    sim_scores = sorted(sim_scores, key=lambda x: x[1], reverse=True)[1:top_n+1]\n",
    "\n",
    "    #Extrai só os índices dos cursos recomendados.\n",
    "    recommended_indices = [i[0] for i in sim_scores]\n",
    "\n",
    "    print(\"Cursos recomendados:\")\n",
    "    for i in recommended_indices:\n",
    "        print(f\"  - {df.iloc[i]['title']}\")\n",
    "\n",
    "ids_disponiveis = df['id'].tolist()\n",
    "ids_para_testar = random.choices(ids_disponiveis, k=5)\n",
    "\n",
    "# Rodando 5 provas de conceito\n",
    "for i, cid in enumerate(ids_para_testar[:5], start=1):\n",
    "    print(f\"\\n Teste {i}/5\")\n",
    "    exibir_recomendacoes(cid, top_n=3)"
   ],
   "metadata": {
    "colab": {
     "base_uri": "https://localhost:8080/"
    },
    "id": "VyzWV1aNdGiZ",
    "outputId": "972d4407-74e8-4d28-a2d1-a98df1bf4b4b"
   },
   "execution_count": 26,
   "outputs": [
    {
     "output_type": "stream",
     "name": "stdout",
     "text": [
      "\n",
      " Teste 1/5\n",
      "\n",
      " Curso selecionado: Selenium WebDriver Bootcamp - Beginner to Pro\n",
      "\n",
      "Cursos recomendados:\n",
      "  - Selenium WebDriver Masterclass with C#\n",
      "  - Selenium Webdriver in Java\n",
      "  - Selenium Webdriver for SDET in Java - Bootcamp\n",
      "\n",
      " Teste 2/5\n",
      "\n",
      " Curso selecionado: Practice Exams LPIC-2 Engineer (201-450 & 202-450) | QA PDF\n",
      "\n",
      "Cursos recomendados:\n",
      "  - LPIC-2 Linux Engineer Practice Exam (201-450 & 202-450) 2020\n",
      "  - LPIC-2 - Linux Engineer Exam 201-450 - June/2020 Q/A UPDATED\n",
      "  - CISSP Practice Exam (All Domains) 450 Questions\n",
      "\n",
      " Teste 3/5\n",
      "\n",
      " Curso selecionado: Recruiter Training - Hire Top Employees in 30 days\n",
      "\n",
      "Cursos recomendados:\n",
      "  - How to Launch Your Business in 30 Days\n",
      "  - IT/NON-IT Recruiter Training to become a Recruiter (Junior)\n",
      "  - Online Business: 30 Days Challenge\n",
      "\n",
      " Teste 4/5\n",
      "\n",
      " Curso selecionado: Business Modelling Masterclass- Business Meets Funding\n",
      "\n",
      "Cursos recomendados:\n",
      "  - Absolute Entrepreneurship Part 2: Funding Your Business\n",
      "  - BPMN 2.0 Business Process Modelling for Business Analysts\n",
      "  - Business process mapping / modelling - the complete course!\n",
      "\n",
      " Teste 5/5\n",
      "\n",
      " Curso selecionado: C# - Getting Started\n",
      "\n",
      "Cursos recomendados:\n",
      "  - Getting Started with Agile\n",
      "  - Business Analysis - Getting Started\n",
      "  - Getting Started With QuickBooks Online\n"
     ]
    }
   ]
  }
 ]
}
