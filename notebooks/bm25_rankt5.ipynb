{
 "cells": [
  {
   "metadata": {},
   "cell_type": "markdown",
   "source": [
    "## 🎓 Sistema de Recomendação de Cursos da Udemy com BM25 e RankT5\n",
    "\n",
    "Este projeto propõe um sistema híbrido de recomendação de cursos online, combinando técnicas de recuperação de informação com aprendizado supervisionado. A abordagem utiliza:\n",
    "\n",
    "- 🔍 BM25 para recuperação inicial baseada em similaridade textual\n",
    "- 🧠 RankT5 (modelo baseado em T5) para reranqueamento supervisionado com entendimento semântico\n",
    "\n",
    "O objetivo é recomendar cursos mais relevantes com base apenas no título da consulta, simulando um cenário com informações limitadas, como em buscas rápidas feitas por usuários em plataformas educacionais como a Udemy.\n"
   ],
   "id": "483f4eeaf8e83bc6"
  },
  {
   "metadata": {},
   "cell_type": "markdown",
   "source": [
    "### 1. 🛠️ Configuração do NLTK e Stop Words\n",
    "\n",
    "Nesta etapa inicial, realizamos a preparação do ambiente de processamento de linguagem natural com a biblioteca NLTK. \n",
    "\n",
    "Foram baixados os recursos essenciais:\n",
    "- Tokenizador `punkt` (para dividir textos em palavras)\n",
    "- Lista de `stopwords` (palavras comuns que não carregam muito significado)\n",
    "\n",
    "Além das stopwords padrão da língua inglesa, foram adicionadas **stopwords específicas do domínio de cursos de tecnologia**, como \"course\", \"tutorial\", \"beginner\", \"bootcamp\", entre outras. Isso garante que o modelo se concentre em termos realmente informativos, como linguagens de programação, tecnologias e temas de conteúdo.\n",
    "\n",
    "Essa filtragem é aplicada durante a tokenização dos títulos dos cursos, melhorando a qualidade da entrada para o cálculo de similaridade com BM25."
   ],
   "id": "22fdab22ac895954"
  },
  {
   "metadata": {},
   "cell_type": "markdown",
   "source": "",
   "id": "656362ec7c8963b5"
  },
  {
   "metadata": {},
   "cell_type": "code",
   "source": [
    "import nltk\n",
    "import contextlib\n",
    "import os\n",
    "from nltk.corpus import stopwords\n",
    "from nltk.tokenize import word_tokenize\n",
    "\n",
    "# Define um diretório local no projeto\n",
    "nltk_data_dir = os.path.join(os.getcwd(), \"nltk_data\")\n",
    "os.makedirs(nltk_data_dir, exist_ok=True)\n",
    "\n",
    "nltk.data.path = [nltk_data_dir]  \n",
    "\n",
    "with open(os.devnull, 'w') as fnull:\n",
    "    with contextlib.redirect_stdout(fnull), contextlib.redirect_stderr(fnull):\n",
    "        nltk.download(\"punkt_tab\", download_dir=nltk_data_dir)\n",
    "        nltk.download(\"stopwords\", download_dir=nltk_data_dir)\n",
    "\n",
    "stop_words = set(stopwords.words('english'))\n",
    "\n",
    "extra_stops = {\n",
    "    \"learn\", \"learning\", \"course\", \"courses\", \"tutorial\", \"introduction\", \"intro\",\n",
    "    \"guide\", \"complete\", \"bootcamp\", \"beginner\", \"beginners\", \"masterclass\", \"hands-on\",\n",
    "    \"project\", \"projects\", \"practical\", \"training\", \"zero\", \"hero\", \"step\", \"steps\",\n",
    "    \"certification\", \"exam\", \"pass\", \"skills\", \"foundation\", \"foundations\", \"build\",\n",
    "    \"create\", \"develop\", \"start\", \"basic\", \"advance\", \"advanced\", \"series\", \"crash\",\n",
    "    \"overview\", \"from\", \"scratch\", \"professional\", \"essentials\"\n",
    "}\n",
    "\n",
    "custom_stopwords = stop_words.union(extra_stops)\n",
    "\n",
    "def tokenize_course_title(text):\n",
    "    tokens = word_tokenize(text.lower())\n",
    "    return [word for word in tokens if word.isalnum() and word not in custom_stopwords]\n"
   ],
   "id": "efd098e2891dc4c5",
   "outputs": [],
   "execution_count": null
  },
  {
   "metadata": {},
   "cell_type": "markdown",
   "source": [
    "### 2. 📥 Importação dos Dados\n",
    "\n",
    "Nesta etapa, importamos os dados brutos que servirão como base para o sistema de recomendação. Os dados consistem em um arquivo CSV contendo aproximadamente 22 mil títulos de cursos da categoria \"IT & Software\" da plataforma Udemy, extraído da base pública do Kaggle.\n",
    "\n",
    "Apenas o campo de título é utilizado, o que simula um cenário desafiador, onde o sistema precisa fazer recomendações sem contar com descrições detalhadas, avaliações de usuários ou outras informações adicionais.\n",
    "\n",
    "Esses títulos serão utilizados para:\n",
    "- Construir o índice BM25 para recuperação inicial\n",
    "- Gerar pares positivos e negativos para o treinamento supervisionado do RankT5\n"
   ],
   "id": "26e327c7be5d3bbe"
  },
  {
   "metadata": {
    "ExecuteTime": {
     "end_time": "2025-04-07T16:00:43.392553Z",
     "start_time": "2025-04-07T16:00:43.307633Z"
    }
   },
   "cell_type": "code",
   "source": [
    "import pandas as pd\n",
    "\n",
    "print(\"📂 Carregando cursos da base Udemy...\")\n",
    "df = pd.read_csv(\"../data/udemy_output_All_IT__Software_p1_p626.csv\")\n",
    "titles = df[\"title\"].dropna().drop_duplicates().tolist()"
   ],
   "id": "26b34da1c455c90c",
   "outputs": [
    {
     "name": "stdout",
     "output_type": "stream",
     "text": [
      "📂 Carregando cursos da base Udemy...\n"
     ]
    }
   ],
   "execution_count": 44
  },
  {
   "metadata": {},
   "cell_type": "markdown",
   "source": [
    "### 3. 🔗 Geração de Dados para Treinamento do RankT5\n",
    "\n",
    "Nesta etapa, construímos a base supervisionada necessária para treinar o modelo RankT5. Para isso, utilizamos o algoritmo BM25 para medir a similaridade entre os títulos dos cursos da base da Udemy.\n",
    "\n",
    "Para cada curso (considerado como consulta), são selecionados:\n",
    "- **3 pares positivos**: cursos mais semelhantes com base na pontuação do BM25.\n",
    "- **3 pares negativos**: cursos com baixa similaridade (por exemplo, a partir do 50º resultado).\n",
    "\n",
    "Cada par é então formatado como uma entrada textual no seguinte padrão:\n",
    "\n",
    "E recebe um rótulo:\n",
    "- `\"1\"` se o par for considerado relevante (positivo)\n",
    "- `\"0\"` se o par for irrelevante (negativo)\n",
    "\n",
    "Esses exemplos textuais são utilizados como entrada para o treinamento supervisionado do modelo RankT5, permitindo que ele aprenda a identificar a relevância entre consultas e cursos com base no texto.\n",
    "\n"
   ],
   "id": "7e576a4f413567b4"
  },
  {
   "metadata": {
    "ExecuteTime": {
     "end_time": "2025-04-07T16:04:18.765146Z",
     "start_time": "2025-04-07T16:00:49.890677Z"
    }
   },
   "cell_type": "code",
   "source": [
    "import numpy as np\n",
    "import random\n",
    "import pandas as pd\n",
    "from tqdm import tqdm\n",
    "from rank_bm25 import BM25Okapi\n",
    "\n",
    "# Tokenizar os títulos\n",
    "tokenized_titles = [tokenize_course_title(t) for t in titles]\n",
    "bm25 = BM25Okapi(tokenized_titles)\n",
    "\n",
    "print(\"Calculando matriz de similaridade BM25...\")\n",
    "bm25_matrix = np.array([bm25.get_scores(tokens) for tokens in tqdm(tokenized_titles)])\n",
    "\n",
    "print(\"Gerando pares com base nas similaridades BM25...\")\n",
    "pairs = []\n",
    "\n",
    "for i in tqdm(range(len(titles))):\n",
    "    scores = bm25_matrix[i]\n",
    "    sorted_indices = scores.argsort()[::-1]\n",
    "    sorted_indices = sorted_indices[sorted_indices != i]  # remove o próprio\n",
    "    \n",
    "    # Pares positivos (títulos similares) tres mais similares\n",
    "    positives = sorted_indices[:3]\n",
    "    # Pares negativos (títulos não similares) tres aleatórios com posições acima de 50 \n",
    "    negatives = random.sample(list(sorted_indices[50:]), 3) if len(sorted_indices) > 50 else sorted_indices[-3:]\n",
    "\n",
    "    for j in positives:\n",
    "        pairs.append((titles[i], titles[j], 1))\n",
    "    for j in negatives:\n",
    "        pairs.append((titles[i], titles[j], 0))\n",
    "\n",
    "# Salvar os pares no formato eperado pelo RankT5\n",
    "df_pairs = pd.DataFrame(pairs, columns=[\"query\", \"course\", \"label\"])\n",
    "df_pairs.to_csv(\"../data/bm25_pairs.csv\", index=False)\n",
    "\n",
    "print(\"Pares salvos em 'bm25_pairs.csv'\")"
   ],
   "id": "f38954760af84dcf",
   "outputs": [
    {
     "name": "stdout",
     "output_type": "stream",
     "text": [
      "Calculando matriz de similaridade BM25...\n"
     ]
    },
    {
     "name": "stderr",
     "output_type": "stream",
     "text": [
      "100%|██████████| 22750/22750 [03:06<00:00, 122.14it/s]\n"
     ]
    },
    {
     "name": "stdout",
     "output_type": "stream",
     "text": [
      "Gerando pares com base nas similaridades BM25...\n"
     ]
    },
    {
     "name": "stderr",
     "output_type": "stream",
     "text": [
      "100%|██████████| 22750/22750 [00:19<00:00, 1187.19it/s]\n"
     ]
    },
    {
     "name": "stdout",
     "output_type": "stream",
     "text": [
      "Pares salvos em 'bm25_pairs.csv'\n"
     ]
    }
   ],
   "execution_count": 45
  },
  {
   "metadata": {},
   "cell_type": "markdown",
   "source": [
    "### 4. 📊 Divisão dos Dados em Treino e Teste\n",
    "\n",
    "Antes de treinar o modelo RankT5, é necessário dividir os pares gerados em dois subconjuntos:\n",
    "\n",
    "- **Conjunto de treinamento (train):** utilizado para ajustar os pesos do modelo supervisionado.\n",
    "- **Conjunto de teste (test):** utilizado para avaliar a capacidade do modelo em generalizar para exemplos que ele nunca viu.\n",
    "\n"
   ],
   "id": "dbbef6ee9bca39"
  },
  {
   "metadata": {
    "ExecuteTime": {
     "end_time": "2025-04-07T16:04:52.649919Z",
     "start_time": "2025-04-07T16:04:51.703511Z"
    }
   },
   "cell_type": "code",
   "source": [
    "import pandas as pd\n",
    "from sklearn.model_selection import train_test_split\n",
    "\n",
    "# Carregar os pares gerados anteriormente\n",
    "df = pd.read_csv(\"../data/bm25_pairs.csv\")\n",
    "\n",
    "# Formatar para RankT5\n",
    "df_rankt5 = pd.DataFrame({\n",
    "    \"input_text\": df.apply(lambda row: f\"Query: {row['query']} Course: {row['course']}\", axis=1),\n",
    "    \"label\": df[\"label\"].astype(str)\n",
    "})\n",
    "\n",
    "# Dividir treino e teste\n",
    "train_df, test_df = train_test_split(df_rankt5, test_size=0.2, random_state=42)\n",
    "\n",
    "# Salvar os arquivos\n",
    "train_df.to_csv(\"../data/rankt5_train.csv\", index=False)\n",
    "test_df.to_csv(\"../data/rankt5_test.csv\", index=False)\n",
    "\n",
    "print(\"Arquivos salvos:\")\n",
    "print(\"rankt5_train.csv\")\n",
    "print(\"rankt5_test.csv\")"
   ],
   "id": "4fa165dcfa74951e",
   "outputs": [
    {
     "name": "stdout",
     "output_type": "stream",
     "text": [
      "Arquivos salvos:\n",
      "rankt5_train.csv\n",
      "rankt5_test.csv\n"
     ]
    }
   ],
   "execution_count": 51
  },
  {
   "metadata": {},
   "cell_type": "markdown",
   "source": [
    "### 5. 🧠 Treinamento do Modelo RankT5\n",
    "\n",
    "Com os dados supervisionados prontos (pares no formato \"Query: ... Course: ...\" com rótulo 1 ou 0), iniciamos o treinamento do modelo RankT5.\n",
    "\n",
    "Utilizamos o modelo `t5-small` da biblioteca Hugging Face Transformers como base. Ele é um modelo encoder-decoder, originalmente treinado com a abordagem \"texto para texto\", o que o torna ideal para tarefas como classificação, tradução, sumarização e, neste caso, reranqueamento supervisionado.\n",
    "\n",
    "Durante o treinamento:\n",
    "- O modelo recebe pares de entrada tokenizados com seus rótulos correspondentes.\n",
    "- Aprende a prever se o curso é ou não relevante para a consulta.\n",
    "- É ajustado por algumas épocas, utilizando o conjunto completo de dados.\n",
    "- A performance é monitorada por meio da `validation_loss`, que indica a capacidade do modelo em generalizar para dados que não viu.\n",
    "\n",
    "Esse processo transforma o T5 em um modelo capaz de entender relações semânticas entre consultas e títulos, indo além da simples similaridade lexical capturada pelo BM25.\n"
   ],
   "id": "a2a5ae2db26c164b"
  },
  {
   "metadata": {
    "ExecuteTime": {
     "end_time": "2025-04-07T16:54:53.912160Z",
     "start_time": "2025-04-07T16:06:10.209441Z"
    }
   },
   "cell_type": "code",
   "source": [
    "import pandas as pd\n",
    "from transformers import T5Tokenizer, T5ForConditionalGeneration, Trainer, TrainingArguments\n",
    "from datasets import Dataset\n",
    "\n",
    "# 1. Carregar e amostrar dados\n",
    "df = pd.read_csv(\"../data/rankt5_train.csv\")\n",
    "df_test = pd.read_csv(\"../data/rankt5_test.csv\")\n",
    "\n",
    "train_sample = df\n",
    "test_sample = df_test\n",
    "\n",
    "print(f\"📚 Dados de treino: {len(train_sample)}\")\n",
    "print(f\"🧪 Dados de teste: {len(test_sample)}\")\n",
    "\n",
    "# 2. Tokenizador e modelo\n",
    "model_name = \"t5-small\"\n",
    "print(\"✂️ Tokenizando dados para entrada no modelo RankT5...\")\n",
    "tokenizer = T5Tokenizer.from_pretrained(model_name)\n",
    "model = T5ForConditionalGeneration.from_pretrained(model_name)\n",
    "\n",
    "# 3. Pré-processamento\n",
    "def preprocess(line):\n",
    "    input_text = str(line[\"input_text\"])\n",
    "    label_text = str(line[\"label\"])\n",
    "\n",
    "    input_enc = tokenizer(\n",
    "        input_text,\n",
    "        padding=\"max_length\",\n",
    "        truncation=True,\n",
    "        max_length=64\n",
    "    )\n",
    "    label_enc = tokenizer(\n",
    "        label_text,\n",
    "        padding=\"max_length\",\n",
    "        truncation=True,\n",
    "        max_length=4\n",
    "    )\n",
    "\n",
    "    input_enc[\"labels\"] = label_enc[\"input_ids\"]\n",
    "    return input_enc\n",
    "\n",
    "\n",
    "train_dataset = Dataset.from_pandas(train_sample).map(\n",
    "    preprocess, \n",
    "    remove_columns=train_sample.columns.tolist()\n",
    ")\n",
    "\n",
    "test_dataset = Dataset.from_pandas(test_sample).map(\n",
    "    preprocess, \n",
    "    remove_columns=test_sample.columns.tolist()\n",
    ")\n",
    "\n",
    "# 4. Argumentos de treino\n",
    "training_args = TrainingArguments(\n",
    "    output_dir=\"../data/rankt5_output\",\n",
    "    overwrite_output_dir=True,\n",
    "    per_device_train_batch_size=8,\n",
    "    per_device_eval_batch_size=8,\n",
    "    num_train_epochs=2,\n",
    "    eval_strategy=\"epoch\",  \n",
    "    save_strategy=\"epoch\",\n",
    "    save_total_limit=2,\n",
    "    logging_dir=\"./logs\",\n",
    "    logging_steps=10,\n",
    "    seed=42,\n",
    "    load_best_model_at_end=True,\n",
    "    metric_for_best_model=\"eval_loss\",\n",
    "    greater_is_better=False\n",
    ")\n",
    "\n",
    "# 5. Treinador\n",
    "trainer = Trainer(\n",
    "    model=model,\n",
    "    args=training_args,\n",
    "    train_dataset=train_dataset,\n",
    "    eval_dataset=test_dataset,\n",
    ")\n",
    "\n",
    "print(\"🚀 Iniciando o treinamento supervisionado com RankT5...\")\n",
    "# 6. Treinar o modelo\n",
    "trainer.train()\n"
   ],
   "id": "eeab3ed3a414ac4b",
   "outputs": [
    {
     "name": "stdout",
     "output_type": "stream",
     "text": [
      "📚 Dados de treino: 109200\n",
      "🧪 Dados de teste: 27300\n",
      "✂️ Tokenizando dados para entrada no modelo RankT5...\n"
     ]
    },
    {
     "name": "stderr",
     "output_type": "stream",
     "text": [
      "Map: 100%|██████████| 109200/109200 [00:15<00:00, 7211.13 examples/s]\n",
      "Map: 100%|██████████| 27300/27300 [00:03<00:00, 7277.46 examples/s]\n"
     ]
    },
    {
     "name": "stdout",
     "output_type": "stream",
     "text": [
      "🚀 Iniciando o treinamento supervisionado com RankT5...\n"
     ]
    },
    {
     "data": {
      "text/plain": [
       "<IPython.core.display.HTML object>"
      ],
      "text/html": [
       "\n",
       "    <div>\n",
       "      \n",
       "      <progress value='27300' max='27300' style='width:300px; height:20px; vertical-align: middle;'></progress>\n",
       "      [27300/27300 48:22, Epoch 2/2]\n",
       "    </div>\n",
       "    <table border=\"1\" class=\"dataframe\">\n",
       "  <thead>\n",
       " <tr style=\"text-align: left;\">\n",
       "      <th>Epoch</th>\n",
       "      <th>Training Loss</th>\n",
       "      <th>Validation Loss</th>\n",
       "    </tr>\n",
       "  </thead>\n",
       "  <tbody>\n",
       "    <tr>\n",
       "      <td>1</td>\n",
       "      <td>0.005800</td>\n",
       "      <td>0.012959</td>\n",
       "    </tr>\n",
       "    <tr>\n",
       "      <td>2</td>\n",
       "      <td>0.018200</td>\n",
       "      <td>0.013143</td>\n",
       "    </tr>\n",
       "  </tbody>\n",
       "</table><p>"
      ]
     },
     "metadata": {},
     "output_type": "display_data"
    },
    {
     "name": "stderr",
     "output_type": "stream",
     "text": [
      "There were missing keys in the checkpoint model loaded: ['encoder.embed_tokens.weight', 'decoder.embed_tokens.weight', 'lm_head.weight'].\n"
     ]
    },
    {
     "data": {
      "text/plain": [
       "TrainOutput(global_step=27300, training_loss=0.034414809940134655, metrics={'train_runtime': 2902.4447, 'train_samples_per_second': 75.247, 'train_steps_per_second': 9.406, 'total_flos': 3694831180185600.0, 'train_loss': 0.034414809940134655, 'epoch': 2.0})"
      ]
     },
     "execution_count": 52,
     "metadata": {},
     "output_type": "execute_result"
    }
   ],
   "execution_count": 52
  },
  {
   "metadata": {},
   "cell_type": "markdown",
   "source": [
    "### 6. 🤝 Função de Recomendação Híbrida com BM25 e RankT5\n",
    "\n",
    "Esta etapa implementa a lógica final do sistema de recomendação, combinando a recuperação inicial com BM25 e o reranqueamento supervisionado com RankT5.\n",
    "\n",
    "A função híbrida opera em dois estágios:\n",
    "\n",
    "1. **🔍 Recuperação com BM25 (não supervisionado)**  \n",
    "   Dada uma consulta (por exemplo, \"learn python for data science\"), o BM25 busca no corpus os cursos com títulos mais similares, com base na frequência e distribuição dos termos. Os **top-50 cursos mais similares** são selecionados como candidatos iniciais.\n",
    "\n",
    "2. **🧠 Reranqueamento com RankT5 (supervisionado)**  \n",
    "   Cada par (consulta + título do curso candidato) é formatado como:  \n",
    "   Esses pares são passados para o modelo RankT5, que retorna uma pontuação de relevância para cada curso. Os cursos são então **reordenados de acordo com essas pontuações**, priorizando aqueles que o modelo considera semanticamente mais relevantes.\n",
    "\n",
    "🔁 O resultado final é uma lista de recomendações ordenadas, que combina a eficiência do BM25 com a capacidade semântica do RankT5, entregando sugestões mais precisas e contextualizadas mesmo sem dados de interação do usuário.\n",
    "\n",
    " "
   ],
   "id": "40f9fd7d62b6c11a"
  },
  {
   "metadata": {
    "ExecuteTime": {
     "end_time": "2025-04-07T16:57:43.067035Z",
     "start_time": "2025-04-07T16:57:41.840515Z"
    }
   },
   "cell_type": "code",
   "source": [
    "import torch\n",
    "from rank_bm25 import BM25Okapi\n",
    "from nltk.tokenize import word_tokenize\n",
    "from transformers import T5Tokenizer, T5ForConditionalGeneration\n",
    "\n",
    "# === Carregar modelo RankT5 já treinado ===\n",
    "tokenizer = T5Tokenizer.from_pretrained(\"t5-small\")\n",
    "model = T5ForConditionalGeneration.from_pretrained(\"../data/rankt5_output/checkpoint-68250\") \n",
    "\n",
    "tokenized_titles = [tokenize_course_title(t) for t in titles]\n",
    "bm25 = BM25Okapi(tokenized_titles)\n",
    "\n",
    "# === Função principal de recomendação híbrida ===\n",
    "def recommend_courses(query, top_k=5):\n",
    "    query_tokens = tokenize_course_title(query)\n",
    "    scores = bm25.get_scores(query_tokens)\n",
    "\n",
    "    # Top-50 mais relevantes por BM25\n",
    "    top_50_indices = sorted(range(len(scores)), key=lambda i: scores[i], reverse=True)[:50]\n",
    "    top_50_courses = [(titles[i], scores[i]) for i in top_50_indices]\n",
    "\n",
    "    # Criar pares para RankT5\n",
    "    input_pairs = [f\"Query: {query} Course: {course}\" for course, _ in top_50_courses]\n",
    "\n",
    "    # Inferência com RankT5\n",
    "    rankt5_scores = []\n",
    "    for text, (title, bm25_score) in zip(input_pairs, top_50_courses):\n",
    "        inputs = tokenizer(text, return_tensors=\"pt\", truncation=True)\n",
    "        with torch.no_grad():\n",
    "            output = model.generate(**inputs)\n",
    "        prediction = tokenizer.decode(output[0], skip_special_tokens=True)\n",
    "        score = int(prediction) if prediction.isdigit() else 0\n",
    "        rankt5_scores.append((title, score, bm25_score))\n",
    "\n",
    "    # Ordenar pelo score do RankT5 e retornar Top-K\n",
    "    ranked = sorted(rankt5_scores, key=lambda x: (-x[1], -x[2]))  # primeiro pelo T5, depois BM25\n",
    "    return ranked[:top_k]\n",
    "\n",
    "def recommend_and_print(query, top_k=5):\n",
    "    recommendations = recommend_courses(query, top_k)\n",
    "    print(f\"\\n🎯 Recomendação para: '{query}'\\n\")\n",
    "    for i, (title, score, bm25_score) in enumerate(recommendations, 1):\n",
    "        print(f\"{i}. {title} (RankT5: {score}, BM25: {bm25_score:.2f})\")\n"
   ],
   "id": "953b512ceb7659ce",
   "outputs": [],
   "execution_count": 53
  },
  {
   "metadata": {},
   "cell_type": "markdown",
   "source": [
    "### 7. 🧪 Teste da Função de Recomendação Híbrida\n",
    "\n",
    "Nesta etapa, testamos o sistema de recomendação completo, combinando a recuperação com BM25 e o reranqueamento com RankT5."
   ],
   "id": "1bcf8ee72f797120"
  },
  {
   "metadata": {
    "ExecuteTime": {
     "end_time": "2025-04-07T16:57:54.481525Z",
     "start_time": "2025-04-07T16:57:46.431056Z"
    }
   },
   "cell_type": "code",
   "source": [
    "recommend_and_print(\"Python for beginners\")\n",
    "recommend_and_print(\"Java programming\")\n",
    "recommend_and_print(\"Machine learning with Python\")\n",
    "recommend_and_print(\"Web development with JavaScript\")\n",
    "recommend_and_print(\"Data science and analytics\")\n",
    "recommend_and_print(\"Cybersecurity\")\n"
   ],
   "id": "ab4ddca97ae9a171",
   "outputs": [
    {
     "name": "stdout",
     "output_type": "stream",
     "text": [
      "\n",
      "🎯 Recomendação para: 'Python for beginners'\n",
      "\n",
      "1. Python for beginners: Learn Python from scratch! (RankT5: 1, BM25: 7.15)\n",
      "2. Python Complete Course For Python Beginners (RankT5: 1, BM25: 7.15)\n",
      "3. Python for Beginners: Learn Python Hands-on (Python 3) (RankT5: 1, BM25: 7.06)\n",
      "4. Python,Python for Beginners Python Real time examples Python (RankT5: 1, BM25: 6.73)\n",
      "5. Python for Everybody- Learn Python 3 (RankT5: 1, BM25: 6.59)\n",
      "\n",
      "🎯 Recomendação para: 'Java programming'\n",
      "\n",
      "1. Java to Develop Programming Skills (RankT5: 1, BM25: 12.13)\n",
      "2. Java MTA - Introduction to Programming Using Java 98-388 (RankT5: 1, BM25: 10.74)\n",
      "3. Java Programming: Step by Step from A to Z (RankT5: 1, BM25: 10.73)\n",
      "4. Object-Oriented Programming in Java: From the Beginning (RankT5: 1, BM25: 10.73)\n",
      "5. Ultimate Java Programming for Beginners (RankT5: 1, BM25: 10.73)\n",
      "\n",
      "🎯 Recomendação para: 'Machine learning with Python'\n",
      "\n",
      "1. Hands-On Machine Learning with scikit-learn and Python (RankT5: 1, BM25: 12.76)\n",
      "2. Introduction To Machine Learning with Python (RankT5: 1, BM25: 12.76)\n",
      "3. Practical Machine Learning by Example in Python (RankT5: 1, BM25: 11.29)\n",
      "4. [2020] Python tutorial from Zero to Hero: + Machine Learning (RankT5: 1, BM25: 11.29)\n",
      "5. Python Spark and Machine Learning (RankT5: 1, BM25: 11.29)\n",
      "\n",
      "🎯 Recomendação para: 'Web development with JavaScript'\n",
      "\n",
      "1. Introduction to Web Development (RankT5: 1, BM25: 12.13)\n",
      "2. Web Scraping in Nodejs & JavaScript (RankT5: 1, BM25: 11.35)\n",
      "3. Web App Optimization with JavaScript (RankT5: 1, BM25: 11.35)\n",
      "4. The Web Developer’s Bootcamp – HTML5, CSS3, JavaScript (RankT5: 1, BM25: 10.29)\n",
      "5. Build a Web Page with HTML, CSS, and JavaScript from Scratch (RankT5: 1, BM25: 10.29)\n",
      "\n",
      "🎯 Recomendação para: 'Data science and analytics'\n",
      "\n",
      "1. Analytics & Data Science for managers & humanitarians (RankT5: 1, BM25: 13.45)\n",
      "2. The Python Bootcamp: Data Science, Analytics & Visualisation (RankT5: 1, BM25: 13.45)\n",
      "3. Microsoft Power BI for Data Science and Data Analytics (RankT5: 1, BM25: 12.83)\n",
      "4. Learn data science & analytics by creating excel dashboards (RankT5: 1, BM25: 12.30)\n",
      "5. Tableau 2020 Training for Data Science & Business Analytics (RankT5: 1, BM25: 12.30)\n",
      "\n",
      "🎯 Recomendação para: 'Cybersecurity'\n",
      "\n",
      "1. The HR professional’s guide to cybersecurity (RankT5: 1, BM25: 9.08)\n",
      "2. Recon in Cybersecurity (RankT5: 1, BM25: 9.08)\n",
      "3. The Home Cybersecurity Course (RankT5: 1, BM25: 9.08)\n",
      "4. Cybersecurity Law & Policy (RankT5: 1, BM25: 8.03)\n",
      "5. Real-World Ethical Hacking: Hands-on Cybersecurity (RankT5: 1, BM25: 8.03)\n"
     ]
    }
   ],
   "execution_count": 54
  }
 ],
 "metadata": {
  "kernelspec": {
   "display_name": "Python 3",
   "language": "python",
   "name": "python3"
  },
  "language_info": {
   "codemirror_mode": {
    "name": "ipython",
    "version": 2
   },
   "file_extension": ".py",
   "mimetype": "text/x-python",
   "name": "python",
   "nbconvert_exporter": "python",
   "pygments_lexer": "ipython2",
   "version": "2.7.6"
  }
 },
 "nbformat": 4,
 "nbformat_minor": 5
}
